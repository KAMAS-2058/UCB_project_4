{
 "cells": [
  {
   "cell_type": "code",
   "execution_count": 19,
   "metadata": {},
   "outputs": [],
   "source": [
    "import psycopg2\n",
    "import json\n",
    "from datetime import datetime\n",
    "import sys\n",
    "import os\n",
    "import pandas as pd\n",
    "\n",
    "#################################################\n",
    "# Database Setup\n",
    "#################################################\n",
    "\n",
    "conn = psycopg2.connect(database=\"project_4\",\n",
    "                            user=\"jaredp\",\n",
    "                            password=\"secret\", #password=\"postgres\"\n",
    "                            host=\"localhost\",\n",
    "                            port = \"5432\"\n",
    "                            # port=\"5432\"\n",
    "                            )\n",
    "cur = conn.cursor()\n",
    "\n",
    "\n",
    "\n",
    "car_id=12001\n",
    "\n",
    "#Something Like\n",
    "cur.execute(f\"Select * from used_cars where id = {car_id}\")\n",
    "car=cur.fetchone()\n",
    "columns=[\"price\", \"year\",\"manufacturer\",\"condition\",\"cylinders\",\"fuel\",\"odometer\",\"title_status\",\"transmission\",\"drive\",\"size\",\"type\",\"paint_color\",\"state\",\"posting_date\", 'id']\n",
    "car=pd.Series(car, index=columns).to_dict()\n",
    "# car.index=columns\n"
   ]
  },
  {
   "cell_type": "code",
   "execution_count": 20,
   "metadata": {},
   "outputs": [
    {
     "data": {
      "text/plain": [
       "{'price': 19999.0,\n",
       " 'year': 2012,\n",
       " 'manufacturer': 'gmc',\n",
       " 'condition': 'good',\n",
       " 'cylinders': '8 cylinders',\n",
       " 'fuel': 'gas',\n",
       " 'odometer': 89643.0,\n",
       " 'title_status': 'clean',\n",
       " 'transmission': 'automatic',\n",
       " 'drive': '4wd',\n",
       " 'size': 'full-size',\n",
       " 'type': 'truck',\n",
       " 'paint_color': 'blue',\n",
       " 'state': 'ny',\n",
       " 'posting_date': datetime.date(2021, 4, 30),\n",
       " 'id': 12001}"
      ]
     },
     "execution_count": 20,
     "metadata": {},
     "output_type": "execute_result"
    }
   ],
   "source": [
    "car"
   ]
  },
  {
   "cell_type": "code",
   "execution_count": null,
   "metadata": {},
   "outputs": [],
   "source": []
  }
 ],
 "metadata": {
  "kernelspec": {
   "display_name": "flask_blog",
   "language": "python",
   "name": "python3"
  },
  "language_info": {
   "codemirror_mode": {
    "name": "ipython",
    "version": 3
   },
   "file_extension": ".py",
   "mimetype": "text/x-python",
   "name": "python",
   "nbconvert_exporter": "python",
   "pygments_lexer": "ipython3",
   "version": "3.10.8"
  },
  "orig_nbformat": 4
 },
 "nbformat": 4,
 "nbformat_minor": 2
}
